{
 "cells": [
  {
   "cell_type": "code",
   "execution_count": 3,
   "metadata": {},
   "outputs": [],
   "source": [
    "###functinal programming\n",
    "#1.simple\n",
    "#2.easy to understand\n",
    "#3.better reuseability\n",
    "#4.length of the programwill be divided into sub programs"
   ]
  },
  {
   "cell_type": "code",
   "execution_count": 4,
   "metadata": {},
   "outputs": [],
   "source": [
    "###syntax\n",
    "#def nameoffunction <parameters>:\n",
    "     #statments\n",
    "     #return"
   ]
  },
  {
   "cell_type": "code",
   "execution_count": 6,
   "metadata": {},
   "outputs": [
    {
     "data": {
      "text/plain": [
       "6"
      ]
     },
     "execution_count": 6,
     "metadata": {},
     "output_type": "execute_result"
    }
   ],
   "source": [
    "#read a number \n",
    "#print the even didgit sum from the number\n",
    "#input= 1234\n",
    "def evendigitsum(n):\n",
    "    s=0\n",
    "    while n != 0:\n",
    "        r = n % 10\n",
    "        if r%2==0:\n",
    "            s=s+r\n",
    "        n=n//10\n",
    "    return s \n",
    "evendigitsum(1234)"
   ]
  },
  {
   "cell_type": "code",
   "execution_count": 2,
   "metadata": {},
   "outputs": [
    {
     "name": "stdout",
     "output_type": "stream",
     "text": [
      "16\n",
      "None\n"
     ]
    }
   ],
   "source": [
    "#define return function\n",
    "def square(x):\n",
    "    print(x*x)\n",
    "print(square(4))"
   ]
  },
  {
   "cell_type": "code",
   "execution_count": 4,
   "metadata": {},
   "outputs": [
    {
     "data": {
      "text/plain": [
       "9"
      ]
     },
     "execution_count": 4,
     "metadata": {},
     "output_type": "execute_result"
    }
   ],
   "source": [
    "def square(x):\n",
    "    return x*x\n",
    "square(3)"
   ]
  },
  {
   "cell_type": "code",
   "execution_count": 9,
   "metadata": {},
   "outputs": [
    {
     "data": {
      "text/plain": [
       "1331"
      ]
     },
     "execution_count": 9,
     "metadata": {},
     "output_type": "execute_result"
    }
   ],
   "source": [
    "def cube(x):\n",
    "    return x*x*x\n",
    "cube(11)"
   ]
  },
  {
   "cell_type": "code",
   "execution_count": 12,
   "metadata": {},
   "outputs": [
    {
     "name": "stdout",
     "output_type": "stream",
     "text": [
      "the value of x= 4\n",
      "the value of y= 2\n",
      "8\n"
     ]
    }
   ],
   "source": [
    "def multiply (x,y=0):\n",
    "    print(\"the value of x=\",x)\n",
    "    print(\"the value of y=\",y)\n",
    "    return(x*y)\n",
    "print(multiply(y=2,x=4))"
   ]
  },
  {
   "cell_type": "code",
   "execution_count": 22,
   "metadata": {},
   "outputs": [
    {
     "data": {
      "text/plain": [
       "(3, 2)"
      ]
     },
     "execution_count": 22,
     "metadata": {},
     "output_type": "execute_result"
    }
   ],
   "source": [
    "#swap values\n",
    "def swap(x=2,y=3):\n",
    "    temp=x\n",
    "    x=y\n",
    "    y=temp \n",
    "    return (x,y)\n",
    "swap(x,y)\n"
   ]
  },
  {
   "cell_type": "code",
   "execution_count": 24,
   "metadata": {},
   "outputs": [
    {
     "data": {
      "text/plain": [
       "9"
      ]
     },
     "execution_count": 24,
     "metadata": {},
     "output_type": "execute_result"
    }
   ],
   "source": [
    "#input =19535\n",
    "#output=largest number in the given number i.e 9\n",
    "def largedigit(n):\n",
    "    large=0\n",
    "    while n!=0:\n",
    "        r=n%10\n",
    "        if large<r:\n",
    "            large=r\n",
    "        n=n//10\n",
    "    return large\n",
    "largedigit(19535)\n",
    "    "
   ]
  },
  {
   "cell_type": "markdown",
   "metadata": {},
   "source": [
    "### For loop\n",
    "##### syntax 1:\n",
    "for i in range (start,stop,step):\n",
    "> statements\n",
    "##### syntax 2:\n",
    "for i in iterableobject:\n",
    "> statements"
   ]
  },
  {
   "cell_type": "code",
   "execution_count": 30,
   "metadata": {},
   "outputs": [
    {
     "name": "stdout",
     "output_type": "stream",
     "text": [
      "1 2 3 4 5 6 7 8 9 10 "
     ]
    }
   ],
   "source": [
    "#function to print the prime numbers btw two limits\n",
    "\n",
    "def printseries(lb,ub):\n",
    "    for x in range(lb,ub+1):\n",
    "        print(x,end=' ')\n",
    "    return   \n",
    "printseries(1,10)"
   ]
  },
  {
   "cell_type": "markdown",
   "metadata": {},
   "source": [
    "#### collection types\n",
    "1. List\n",
    "2. Tuple\n",
    "3. set\n",
    "4. Dictionary"
   ]
  },
  {
   "cell_type": "markdown",
   "metadata": {},
   "source": [
    "## List:\n",
    "1. one of the data types in python\n",
    "2. data structure means to store,sort and search options\n",
    "3. its one common data structure in python,the items of list seperaqted by comma and enclosed in square backets [ ]\n",
    " \n",
    "#### Examples:\n",
    "- list1 =[1,2,3,4,5]\n",
    "- list2=[\"Gitam\",1,2]\n",
    " "
   ]
  },
  {
   "cell_type": "code",
   "execution_count": 49,
   "metadata": {},
   "outputs": [
    {
     "name": "stdout",
     "output_type": "stream",
     "text": [
      "[1, 8, 16, 9, 2]\n",
      "1\n",
      "8\n",
      "1\n",
      "[16, 9, 2]\n",
      "[8, 16, 9]\n",
      "[8, 16, 9]\n"
     ]
    }
   ],
   "source": [
    "li=[1,8,16,9,2] #address of the numbers from left to right is (0,1,2,3,4) and from left to right is (-5,-4,-3,-2,-1) \n",
    "print(li) #will print the list itens\n",
    "print(li[0])\n",
    "print(li[1])\n",
    "print(li[-5])\n",
    "print(li[2:]) #this : will print all the numbers from the respective numbers address\n",
    "print(li[1:4])\n",
    "print(li[-4:-1])"
   ]
  },
  {
   "cell_type": "code",
   "execution_count": 55,
   "metadata": {},
   "outputs": [
    {
     "name": "stdout",
     "output_type": "stream",
     "text": [
      "['Gitam', 1234, 'hyd']\n",
      "['Gitam', 456, 'hyd']\n"
     ]
    }
   ],
   "source": [
    "#To update list\n",
    "li= ['Gitam',1234,'hyd']\n",
    "print(li)\n",
    "li[1]=456\n",
    "print(li)"
   ]
  },
  {
   "cell_type": "code",
   "execution_count": 59,
   "metadata": {},
   "outputs": [
    {
     "name": "stdout",
     "output_type": "stream",
     "text": [
      "['gitam', 1234, 2018, 2019, 'hyd']\n",
      "['gitam', 1234, 2018, 'hyd']\n"
     ]
    }
   ],
   "source": [
    "#delete a value from the list\n",
    "li=['gitam',1234,2018,2019,'hyd']\n",
    "print(li)\n",
    "del li[3]\n",
    "print(li)"
   ]
  }
 ],
 "metadata": {
  "kernelspec": {
   "display_name": "Python 3",
   "language": "python",
   "name": "python3"
  },
  "language_info": {
   "codemirror_mode": {
    "name": "ipython",
    "version": 3
   },
   "file_extension": ".py",
   "mimetype": "text/x-python",
   "name": "python",
   "nbconvert_exporter": "python",
   "pygments_lexer": "ipython3",
   "version": "3.7.3"
  }
 },
 "nbformat": 4,
 "nbformat_minor": 2
}
